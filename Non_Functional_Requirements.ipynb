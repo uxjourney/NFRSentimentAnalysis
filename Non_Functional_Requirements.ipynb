{
  "nbformat": 4,
  "nbformat_minor": 0,
  "metadata": {
    "colab": {
      "name": "Non Functional Requirements.ipynb",
      "provenance": [],
      "collapsed_sections": [],
      "include_colab_link": true
    },
    "kernelspec": {
      "name": "python3",
      "display_name": "Python 3"
    },
    "accelerator": "GPU"
  },
  "cells": [
    {
      "cell_type": "markdown",
      "metadata": {
        "id": "view-in-github",
        "colab_type": "text"
      },
      "source": [
        "<a href=\"https://colab.research.google.com/github/wahyukusuma/NFRSentimentAnalysis/blob/master/Non_Functional_Requirements.ipynb\" target=\"_parent\"><img src=\"https://colab.research.google.com/assets/colab-badge.svg\" alt=\"Open In Colab\"/></a>"
      ]
    },
    {
      "cell_type": "markdown",
      "metadata": {
        "id": "eIfGT-AQosqL",
        "colab_type": "text"
      },
      "source": [
        "#Data Gathering"
      ]
    },
    {
      "cell_type": "code",
      "metadata": {
        "id": "iMpYv8l4m6VN",
        "colab_type": "code",
        "colab": {}
      },
      "source": [
        "!git clone https://github.com/toxtli/GooglePlay-AppleStore-reviews-scraper.git\n",
        "%cd GooglePlay-AppleStore-reviews-scraper\n",
        "!./colab_headless.sh"
      ],
      "execution_count": 0,
      "outputs": []
    },
    {
      "cell_type": "code",
      "metadata": {
        "id": "ziQaFK-tnA6u",
        "colab_type": "code",
        "colab": {}
      },
      "source": [
        "!python app.py -g -q -s google -c com.linkdokter.halodoc.android -o halodoc.csv --quiet"
      ],
      "execution_count": 0,
      "outputs": []
    },
    {
      "cell_type": "code",
      "metadata": {
        "id": "ov_wiG1SzldO",
        "colab_type": "code",
        "colab": {}
      },
      "source": [
        "!cat halodoc.csv"
      ],
      "execution_count": 0,
      "outputs": []
    },
    {
      "cell_type": "markdown",
      "metadata": {
        "id": "iVqeM4vtcErl",
        "colab_type": "text"
      },
      "source": [
        "# Sentiment Analysis"
      ]
    },
    {
      "cell_type": "markdown",
      "metadata": {
        "id": "rnsIo4p2hKq9",
        "colab_type": "text"
      },
      "source": [
        "## Read Data"
      ]
    },
    {
      "cell_type": "code",
      "metadata": {
        "id": "4uRehmdDvBqb",
        "colab_type": "code",
        "colab": {}
      },
      "source": [
        "import pandas as pd\n",
        "import numpy as np\n",
        "import nltk"
      ],
      "execution_count": 0,
      "outputs": []
    },
    {
      "cell_type": "code",
      "metadata": {
        "id": "BNxTz_GsvGLq",
        "colab_type": "code",
        "colab": {
          "base_uri": "https://localhost:8080/",
          "height": 623
        },
        "outputId": "98d15319-ba30-46d9-82df-d5a495a7e5d5"
      },
      "source": [
        "mydata = pd.read_csv(\"/content/GooglePlay-AppleStore-reviews-scraper/GooglePlay-AppleStore-reviews-scraper/halodoc.csv\", header = 0)\n",
        "print(mydata.shape)\n",
        "mydata"
      ],
      "execution_count": 114,
      "outputs": [
        {
          "output_type": "stream",
          "text": [
            "(2760, 6)\n"
          ],
          "name": "stdout"
        },
        {
          "output_type": "execute_result",
          "data": {
            "text/html": [
              "<div>\n",
              "<style scoped>\n",
              "    .dataframe tbody tr th:only-of-type {\n",
              "        vertical-align: middle;\n",
              "    }\n",
              "\n",
              "    .dataframe tbody tr th {\n",
              "        vertical-align: top;\n",
              "    }\n",
              "\n",
              "    .dataframe thead th {\n",
              "        text-align: right;\n",
              "    }\n",
              "</style>\n",
              "<table border=\"1\" class=\"dataframe\">\n",
              "  <thead>\n",
              "    <tr style=\"text-align: right;\">\n",
              "      <th></th>\n",
              "      <th>author</th>\n",
              "      <th>review</th>\n",
              "      <th>rating</th>\n",
              "      <th>vote_count</th>\n",
              "      <th>date</th>\n",
              "      <th>reply</th>\n",
              "    </tr>\n",
              "  </thead>\n",
              "  <tbody>\n",
              "    <tr>\n",
              "      <th>0</th>\n",
              "      <td>b'Dany Raihan'</td>\n",
              "      <td>b'Unconditional love for this app. Zero mistak...</td>\n",
              "      <td>b'Rated 5 stars out of five stars'</td>\n",
              "      <td>b'57'</td>\n",
              "      <td>b'November 15, 2019'</td>\n",
              "      <td>b'HalodocNovember 15, 2019\\nHai Dany Raihan! T...</td>\n",
              "    </tr>\n",
              "    <tr>\n",
              "      <th>1</th>\n",
              "      <td>b'Marcelina Mega Adi Tjandra'</td>\n",
              "      <td>b\"Really like this app, really helpful. Howeve...</td>\n",
              "      <td>b'Rated 3 stars out of five stars'</td>\n",
              "      <td>b'2'</td>\n",
              "      <td>b'December 3, 2019'</td>\n",
              "      <td>b\"HalodocDecember 3, 2019\\nHi Marcelina Mega A...</td>\n",
              "    </tr>\n",
              "    <tr>\n",
              "      <th>2</th>\n",
              "      <td>b'Nuovi Adeline'</td>\n",
              "      <td>b'I have never rated an app before. The reason...</td>\n",
              "      <td>b'Rated 5 stars out of five stars'</td>\n",
              "      <td>b'6'</td>\n",
              "      <td>b'December 1, 2019'</td>\n",
              "      <td>b\"HalodocDecember 1, 2019\\nHi Nuovi Adeline! T...</td>\n",
              "    </tr>\n",
              "    <tr>\n",
              "      <th>3</th>\n",
              "      <td>b'Randy Reckerman'</td>\n",
              "      <td>b\"Excellent service. I have purchased medicine...</td>\n",
              "      <td>b'Rated 5 stars out of five stars'</td>\n",
              "      <td>b'6'</td>\n",
              "      <td>b'November 30, 2019'</td>\n",
              "      <td>b\"HalodocJune 23, 2019\\nHai Randy Reckerman! T...</td>\n",
              "    </tr>\n",
              "    <tr>\n",
              "      <th>4</th>\n",
              "      <td>b'Dimas Wahyu Jayanto'</td>\n",
              "      <td>b'Very helpful app.. But idk why everytime i o...</td>\n",
              "      <td>b'Rated 4 stars out of five stars'</td>\n",
              "      <td>b'1'</td>\n",
              "      <td>b'December 2, 2019'</td>\n",
              "      <td>b\"HalodocDecember 2, 2019\\nHi Dimas Wahyu Jaya...</td>\n",
              "    </tr>\n",
              "    <tr>\n",
              "      <th>...</th>\n",
              "      <td>...</td>\n",
              "      <td>...</td>\n",
              "      <td>...</td>\n",
              "      <td>...</td>\n",
              "      <td>...</td>\n",
              "      <td>...</td>\n",
              "    </tr>\n",
              "    <tr>\n",
              "      <th>2755</th>\n",
              "      <td>b'Yulius Tanu'</td>\n",
              "      <td>b'Very helpful'</td>\n",
              "      <td>b'Rated 5 stars out of five stars'</td>\n",
              "      <td>b''</td>\n",
              "      <td>b'November 24, 2019'</td>\n",
              "      <td>b'HalodocNovember 24, 2019\\nHai Yulius Tanu! T...</td>\n",
              "    </tr>\n",
              "    <tr>\n",
              "      <th>2756</th>\n",
              "      <td>b'Dewi Mardiah'</td>\n",
              "      <td>b'Good aplications'</td>\n",
              "      <td>b'Rated 5 stars out of five stars'</td>\n",
              "      <td>b''</td>\n",
              "      <td>b'November 25, 2019'</td>\n",
              "      <td>b'HalodocNovember 25, 2019\\nHai Dewi Mardiah! ...</td>\n",
              "    </tr>\n",
              "    <tr>\n",
              "      <th>2757</th>\n",
              "      <td>b'April D Shangra'</td>\n",
              "      <td>b'Very helpful'</td>\n",
              "      <td>b'Rated 5 stars out of five stars'</td>\n",
              "      <td>b''</td>\n",
              "      <td>b'November 24, 2019'</td>\n",
              "      <td>b'HalodocNovember 24, 2019\\nHai April D Shangr...</td>\n",
              "    </tr>\n",
              "    <tr>\n",
              "      <th>2758</th>\n",
              "      <td>b'jhe jhe'</td>\n",
              "      <td>b'Very helpful'</td>\n",
              "      <td>b'Rated 5 stars out of five stars'</td>\n",
              "      <td>b''</td>\n",
              "      <td>b'November 26, 2019'</td>\n",
              "      <td>b'HalodocNovember 30, 2019\\nHai jhe jhe! Terim...</td>\n",
              "    </tr>\n",
              "    <tr>\n",
              "      <th>2759</th>\n",
              "      <td>b'rosalina satyanova'</td>\n",
              "      <td>b'good aplication'</td>\n",
              "      <td>b'Rated 5 stars out of five stars'</td>\n",
              "      <td>b''</td>\n",
              "      <td>b'November 30, 2019'</td>\n",
              "      <td>b'HalodocNovember 30, 2019\\nHai Rosalina satya...</td>\n",
              "    </tr>\n",
              "  </tbody>\n",
              "</table>\n",
              "<p>2760 rows × 6 columns</p>\n",
              "</div>"
            ],
            "text/plain": [
              "                             author  ...                                              reply\n",
              "0                    b'Dany Raihan'  ...  b'HalodocNovember 15, 2019\\nHai Dany Raihan! T...\n",
              "1     b'Marcelina Mega Adi Tjandra'  ...  b\"HalodocDecember 3, 2019\\nHi Marcelina Mega A...\n",
              "2                  b'Nuovi Adeline'  ...  b\"HalodocDecember 1, 2019\\nHi Nuovi Adeline! T...\n",
              "3                b'Randy Reckerman'  ...  b\"HalodocJune 23, 2019\\nHai Randy Reckerman! T...\n",
              "4            b'Dimas Wahyu Jayanto'  ...  b\"HalodocDecember 2, 2019\\nHi Dimas Wahyu Jaya...\n",
              "...                             ...  ...                                                ...\n",
              "2755                 b'Yulius Tanu'  ...  b'HalodocNovember 24, 2019\\nHai Yulius Tanu! T...\n",
              "2756                b'Dewi Mardiah'  ...  b'HalodocNovember 25, 2019\\nHai Dewi Mardiah! ...\n",
              "2757             b'April D Shangra'  ...  b'HalodocNovember 24, 2019\\nHai April D Shangr...\n",
              "2758                     b'jhe jhe'  ...  b'HalodocNovember 30, 2019\\nHai jhe jhe! Terim...\n",
              "2759          b'rosalina satyanova'  ...  b'HalodocNovember 30, 2019\\nHai Rosalina satya...\n",
              "\n",
              "[2760 rows x 6 columns]"
            ]
          },
          "metadata": {
            "tags": []
          },
          "execution_count": 114
        }
      ]
    },
    {
      "cell_type": "markdown",
      "metadata": {
        "id": "8LobolVlhRaf",
        "colab_type": "text"
      },
      "source": [
        "## NLTK Sentiment Intensity Analyzer"
      ]
    },
    {
      "cell_type": "code",
      "metadata": {
        "id": "8sRWzBmWUU1-",
        "colab_type": "code",
        "colab": {
          "base_uri": "https://localhost:8080/",
          "height": 68
        },
        "outputId": "144d13a1-a83d-496f-e7fb-2159c6bd09b1"
      },
      "source": [
        "from nltk.sentiment.vader import SentimentIntensityAnalyzer\n",
        "from nltk import tokenize\n",
        "nltk.download('vader_lexicon')"
      ],
      "execution_count": 115,
      "outputs": [
        {
          "output_type": "stream",
          "text": [
            "[nltk_data] Downloading package vader_lexicon to /root/nltk_data...\n",
            "[nltk_data]   Package vader_lexicon is already up-to-date!\n"
          ],
          "name": "stdout"
        },
        {
          "output_type": "execute_result",
          "data": {
            "text/plain": [
              "True"
            ]
          },
          "metadata": {
            "tags": []
          },
          "execution_count": 115
        }
      ]
    },
    {
      "cell_type": "code",
      "metadata": {
        "id": "TVRkQg0GaUai",
        "colab_type": "code",
        "colab": {}
      },
      "source": [
        "sid = SentimentIntensityAnalyzer()\n",
        "listy=[]\n",
        "for index,row in mydata.iterrows():\n",
        "  ss = sid.polarity_scores(row[\"review\"])\n",
        "  listy.append(ss)\n",
        "se = pd.Series(listy)\n",
        "mydata['polarity'] = se.values"
      ],
      "execution_count": 0,
      "outputs": []
    },
    {
      "cell_type": "code",
      "metadata": {
        "id": "KWf2IXxYZsL1",
        "colab_type": "code",
        "colab": {
          "base_uri": "https://localhost:8080/",
          "height": 759
        },
        "outputId": "2e9155d7-cf7e-4537-8120-dd13ca5c2c7a"
      },
      "source": [
        "mydata"
      ],
      "execution_count": 110,
      "outputs": [
        {
          "output_type": "execute_result",
          "data": {
            "text/html": [
              "<div>\n",
              "<style scoped>\n",
              "    .dataframe tbody tr th:only-of-type {\n",
              "        vertical-align: middle;\n",
              "    }\n",
              "\n",
              "    .dataframe tbody tr th {\n",
              "        vertical-align: top;\n",
              "    }\n",
              "\n",
              "    .dataframe thead th {\n",
              "        text-align: right;\n",
              "    }\n",
              "</style>\n",
              "<table border=\"1\" class=\"dataframe\">\n",
              "  <thead>\n",
              "    <tr style=\"text-align: right;\">\n",
              "      <th></th>\n",
              "      <th>author</th>\n",
              "      <th>review</th>\n",
              "      <th>rating</th>\n",
              "      <th>vote_count</th>\n",
              "      <th>date</th>\n",
              "      <th>reply</th>\n",
              "      <th>polarity</th>\n",
              "    </tr>\n",
              "  </thead>\n",
              "  <tbody>\n",
              "    <tr>\n",
              "      <th>0</th>\n",
              "      <td>b'Dany Raihan'</td>\n",
              "      <td>b'Unconditional love for this app. Zero mistak...</td>\n",
              "      <td>b'Rated 5 stars out of five stars'</td>\n",
              "      <td>b'57'</td>\n",
              "      <td>b'November 15, 2019'</td>\n",
              "      <td>b'HalodocNovember 15, 2019\\nHai Dany Raihan! T...</td>\n",
              "      <td>{'neg': 0.037, 'neu': 0.686, 'pos': 0.277, 'co...</td>\n",
              "    </tr>\n",
              "    <tr>\n",
              "      <th>1</th>\n",
              "      <td>b'Marcelina Mega Adi Tjandra'</td>\n",
              "      <td>b\"Really like this app, really helpful. Howeve...</td>\n",
              "      <td>b'Rated 3 stars out of five stars'</td>\n",
              "      <td>b'2'</td>\n",
              "      <td>b'December 3, 2019'</td>\n",
              "      <td>b\"HalodocDecember 3, 2019\\nHi Marcelina Mega A...</td>\n",
              "      <td>{'neg': 0.047, 'neu': 0.795, 'pos': 0.159, 'co...</td>\n",
              "    </tr>\n",
              "    <tr>\n",
              "      <th>2</th>\n",
              "      <td>b'Nuovi Adeline'</td>\n",
              "      <td>b'I have never rated an app before. The reason...</td>\n",
              "      <td>b'Rated 5 stars out of five stars'</td>\n",
              "      <td>b'6'</td>\n",
              "      <td>b'December 1, 2019'</td>\n",
              "      <td>b\"HalodocDecember 1, 2019\\nHi Nuovi Adeline! T...</td>\n",
              "      <td>{'neg': 0.0, 'neu': 0.878, 'pos': 0.122, 'comp...</td>\n",
              "    </tr>\n",
              "    <tr>\n",
              "      <th>3</th>\n",
              "      <td>b'Randy Reckerman'</td>\n",
              "      <td>b\"Excellent service. I have purchased medicine...</td>\n",
              "      <td>b'Rated 5 stars out of five stars'</td>\n",
              "      <td>b'6'</td>\n",
              "      <td>b'November 30, 2019'</td>\n",
              "      <td>b\"HalodocJune 23, 2019\\nHai Randy Reckerman! T...</td>\n",
              "      <td>{'neg': 0.127, 'neu': 0.798, 'pos': 0.075, 'co...</td>\n",
              "    </tr>\n",
              "    <tr>\n",
              "      <th>4</th>\n",
              "      <td>b'Dimas Wahyu Jayanto'</td>\n",
              "      <td>b'Very helpful app.. But idk why everytime i o...</td>\n",
              "      <td>b'Rated 4 stars out of five stars'</td>\n",
              "      <td>b'1'</td>\n",
              "      <td>b'December 2, 2019'</td>\n",
              "      <td>b\"HalodocDecember 2, 2019\\nHi Dimas Wahyu Jaya...</td>\n",
              "      <td>{'neg': 0.048, 'neu': 0.856, 'pos': 0.096, 'co...</td>\n",
              "    </tr>\n",
              "    <tr>\n",
              "      <th>...</th>\n",
              "      <td>...</td>\n",
              "      <td>...</td>\n",
              "      <td>...</td>\n",
              "      <td>...</td>\n",
              "      <td>...</td>\n",
              "      <td>...</td>\n",
              "      <td>...</td>\n",
              "    </tr>\n",
              "    <tr>\n",
              "      <th>2755</th>\n",
              "      <td>b'Yulius Tanu'</td>\n",
              "      <td>b'Very helpful'</td>\n",
              "      <td>b'Rated 5 stars out of five stars'</td>\n",
              "      <td>b''</td>\n",
              "      <td>b'November 24, 2019'</td>\n",
              "      <td>b'HalodocNovember 24, 2019\\nHai Yulius Tanu! T...</td>\n",
              "      <td>{'neg': 0.0, 'neu': 0.263, 'pos': 0.737, 'comp...</td>\n",
              "    </tr>\n",
              "    <tr>\n",
              "      <th>2756</th>\n",
              "      <td>b'Dewi Mardiah'</td>\n",
              "      <td>b'Good aplications'</td>\n",
              "      <td>b'Rated 5 stars out of five stars'</td>\n",
              "      <td>b''</td>\n",
              "      <td>b'November 25, 2019'</td>\n",
              "      <td>b'HalodocNovember 25, 2019\\nHai Dewi Mardiah! ...</td>\n",
              "      <td>{'neg': 0.0, 'neu': 1.0, 'pos': 0.0, 'compound...</td>\n",
              "    </tr>\n",
              "    <tr>\n",
              "      <th>2757</th>\n",
              "      <td>b'April D Shangra'</td>\n",
              "      <td>b'Very helpful'</td>\n",
              "      <td>b'Rated 5 stars out of five stars'</td>\n",
              "      <td>b''</td>\n",
              "      <td>b'November 24, 2019'</td>\n",
              "      <td>b'HalodocNovember 24, 2019\\nHai April D Shangr...</td>\n",
              "      <td>{'neg': 0.0, 'neu': 0.263, 'pos': 0.737, 'comp...</td>\n",
              "    </tr>\n",
              "    <tr>\n",
              "      <th>2758</th>\n",
              "      <td>b'jhe jhe'</td>\n",
              "      <td>b'Very helpful'</td>\n",
              "      <td>b'Rated 5 stars out of five stars'</td>\n",
              "      <td>b''</td>\n",
              "      <td>b'November 26, 2019'</td>\n",
              "      <td>b'HalodocNovember 30, 2019\\nHai jhe jhe! Terim...</td>\n",
              "      <td>{'neg': 0.0, 'neu': 0.263, 'pos': 0.737, 'comp...</td>\n",
              "    </tr>\n",
              "    <tr>\n",
              "      <th>2759</th>\n",
              "      <td>b'rosalina satyanova'</td>\n",
              "      <td>b'good aplication'</td>\n",
              "      <td>b'Rated 5 stars out of five stars'</td>\n",
              "      <td>b''</td>\n",
              "      <td>b'November 30, 2019'</td>\n",
              "      <td>b'HalodocNovember 30, 2019\\nHai Rosalina satya...</td>\n",
              "      <td>{'neg': 0.0, 'neu': 1.0, 'pos': 0.0, 'compound...</td>\n",
              "    </tr>\n",
              "  </tbody>\n",
              "</table>\n",
              "<p>2760 rows × 7 columns</p>\n",
              "</div>"
            ],
            "text/plain": [
              "                             author  ...                                           polarity\n",
              "0                    b'Dany Raihan'  ...  {'neg': 0.037, 'neu': 0.686, 'pos': 0.277, 'co...\n",
              "1     b'Marcelina Mega Adi Tjandra'  ...  {'neg': 0.047, 'neu': 0.795, 'pos': 0.159, 'co...\n",
              "2                  b'Nuovi Adeline'  ...  {'neg': 0.0, 'neu': 0.878, 'pos': 0.122, 'comp...\n",
              "3                b'Randy Reckerman'  ...  {'neg': 0.127, 'neu': 0.798, 'pos': 0.075, 'co...\n",
              "4            b'Dimas Wahyu Jayanto'  ...  {'neg': 0.048, 'neu': 0.856, 'pos': 0.096, 'co...\n",
              "...                             ...  ...                                                ...\n",
              "2755                 b'Yulius Tanu'  ...  {'neg': 0.0, 'neu': 0.263, 'pos': 0.737, 'comp...\n",
              "2756                b'Dewi Mardiah'  ...  {'neg': 0.0, 'neu': 1.0, 'pos': 0.0, 'compound...\n",
              "2757             b'April D Shangra'  ...  {'neg': 0.0, 'neu': 0.263, 'pos': 0.737, 'comp...\n",
              "2758                     b'jhe jhe'  ...  {'neg': 0.0, 'neu': 0.263, 'pos': 0.737, 'comp...\n",
              "2759          b'rosalina satyanova'  ...  {'neg': 0.0, 'neu': 1.0, 'pos': 0.0, 'compound...\n",
              "\n",
              "[2760 rows x 7 columns]"
            ]
          },
          "metadata": {
            "tags": []
          },
          "execution_count": 110
        }
      ]
    }
  ]
}