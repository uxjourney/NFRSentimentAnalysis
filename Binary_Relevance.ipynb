{
  "nbformat": 4,
  "nbformat_minor": 0,
  "metadata": {
    "kernelspec": {
      "display_name": "Python 3",
      "language": "python",
      "name": "python3"
    },
    "language_info": {
      "codemirror_mode": {
        "name": "ipython",
        "version": 3
      },
      "file_extension": ".py",
      "mimetype": "text/x-python",
      "name": "python",
      "nbconvert_exporter": "python",
      "pygments_lexer": "ipython3",
      "version": "3.6.0"
    },
    "colab": {
      "name": "Binary Relevance.ipynb",
      "provenance": [],
      "include_colab_link": true
    }
  },
  "cells": [
    {
      "cell_type": "markdown",
      "metadata": {
        "id": "view-in-github",
        "colab_type": "text"
      },
      "source": [
        "<a href=\"https://colab.research.google.com/github/wahyukusuma/NFRSentimentAnalysis/blob/master/Binary_Relevance.ipynb\" target=\"_parent\"><img src=\"https://colab.research.google.com/assets/colab-badge.svg\" alt=\"Open In Colab\"/></a>"
      ]
    },
    {
      "cell_type": "code",
      "metadata": {
        "id": "8LmQWZrUy24k",
        "colab_type": "code",
        "colab": {}
      },
      "source": [
        "import numpy as np\n",
        "from sklearn.feature_extraction.text import CountVectorizer\n",
        "from sklearn.feature_extraction.text import TfidfVectorizer\n",
        "from sklearn.svm import LinearSVC\n",
        "from sklearn.feature_extraction.text import TfidfTransformer\n",
        "from sklearn.multiclass import OneVsRestClassifier\n",
        "from sklearn.preprocessing import MultiLabelBinarizer"
      ],
      "execution_count": 0,
      "outputs": []
    },
    {
      "cell_type": "code",
      "metadata": {
        "id": "q68cGzD-y240",
        "colab_type": "code",
        "colab": {}
      },
      "source": [
        "#Input Training Instances\n",
        "lines = [line.rstrip('\\n') for line in open('C:/Users/Nishant/Desktop/560/6000/Binary Classification/Data Only + Sentiment.txt','r',  encoding=\"utf8\")]\n",
        "dataset = np.array(lines)"
      ],
      "execution_count": 0,
      "outputs": []
    },
    {
      "cell_type": "code",
      "metadata": {
        "id": "fU-f8yHmy248",
        "colab_type": "code",
        "colab": {}
      },
      "source": [
        "#Input Label of Training Instances\n",
        "with open('C:/Users/Nishant/Desktop/560/6000/Binary Classification/Label.txt', 'r') as f:\n",
        "    labels  = []\n",
        "    for line in f:\n",
        "        a= line.rstrip('\\n').split(',')\n",
        "        labels.append(list(filter(None, a)))"
      ],
      "execution_count": 0,
      "outputs": []
    },
    {
      "cell_type": "code",
      "metadata": {
        "id": "qi1zova6y25P",
        "colab_type": "code",
        "colab": {}
      },
      "source": [
        "#Using Scikit Learn In-built Split Functionality\n",
        "from sklearn.model_selection import train_test_split\n",
        "\n",
        "X_train, X_test, y_train, y_test = train_test_split(dataset, labels, test_size=0.3, random_state = 1)"
      ],
      "execution_count": 0,
      "outputs": []
    },
    {
      "cell_type": "code",
      "metadata": {
        "id": "rNXneFVvy25Z",
        "colab_type": "code",
        "colab": {}
      },
      "source": [
        "#Extract Labels for each class for Training Set\n",
        "from sklearn import preprocessing\n",
        "\n",
        "#Mentioning Class name preserves order\n",
        "mlb = preprocessing.MultiLabelBinarizer(classes=(\"Dep\", \"Per\", \"Sup\", \"Usa\", \"Mis\"))\n",
        "Y_train = mlb.fit_transform(y_train)\n",
        "Training_Labels_Dep = [row[0] for row in Y_train]\n",
        "Training_Labels_Per = [row[1] for row in Y_train]\n",
        "Training_Labels_Sup = [row[2] for row in Y_train]\n",
        "Training_Labels_Usa = [row[3] for row in Y_train]\n",
        "\n",
        "#print(X_train)"
      ],
      "execution_count": 0,
      "outputs": []
    },
    {
      "cell_type": "code",
      "metadata": {
        "id": "W937LFoTy25g",
        "colab_type": "code",
        "colab": {}
      },
      "source": [
        "#Extract Labels for each class for Test Set\n",
        "from sklearn import preprocessing\n",
        "mlb = preprocessing.MultiLabelBinarizer(classes=(\"Dep\", \"Per\", \"Sup\", \"Usa\", \"Mis\"))\n",
        "Y_test = mlb.fit_transform(y_test)\n",
        "Test_Labels_Dep = [row[0] for row in Y_test]\n",
        "Test_Labels_Per = [row[1] for row in Y_test]\n",
        "Test_Labels_Sup = [row[2] for row in Y_test]\n",
        "Test_Labels_Usa = [row[3] for row in Y_test]"
      ],
      "execution_count": 0,
      "outputs": []
    },
    {
      "cell_type": "code",
      "metadata": {
        "id": "_5EGESZwy25p",
        "colab_type": "code",
        "colab": {},
        "outputId": "73c31ce1-f0b9-4253-e935-33a56dc0cdc9"
      },
      "source": [
        "import nltk\n",
        "from nltk import word_tokenize     \n",
        "from nltk.stem.porter import PorterStemmer\n",
        "\n",
        "stemmer = PorterStemmer()\n",
        "def stem_tokens(tokens, stemmer):\n",
        "    stemmed = []\n",
        "    for item in tokens:\n",
        "        stemmed.append(stemmer.stem(item))\n",
        "    return stemmed\n",
        "\n",
        "def tokenize(text):\n",
        "    tokens = nltk.word_tokenize(text)\n",
        "    stems = stem_tokens(tokens, stemmer)\n",
        "    return stems\n",
        "\n",
        "# Initialize the `count_vectorizer` \n",
        "#count_vectorizer = CountVectorizer(lowercase='true')\n",
        "#count_vectorizer = CountVectorizer(tokenizer=tokenize, lowercase='true')\n",
        "count_vectorizer = CountVectorizer(tokenizer=tokenize, stop_words='english', lowercase='true')\n",
        "\n",
        "# Fit and transform the training data \n",
        "count_train = count_vectorizer.fit_transform(X_train) \n",
        "\n",
        "# Transform the test set \n",
        "count_test = count_vectorizer.transform(X_test)\n",
        "\n",
        "# Initialize the `tfidf_vectorizer` \n",
        "#tfidf_vectorizer = TfidfVectorizer(lowercase='true') \n",
        "tfidf_vectorizer = TfidfVectorizer(tokenizer=tokenize, use_idf = False, lowercase='true') \n",
        "#tfidf_vectorizer = TfidfVectorizer(tokenizer=tokenize, stop_words='english', lowercase='true') \n",
        "\n",
        "# Fit and transform the training data \n",
        "tfidf_train = tfidf_vectorizer.fit_transform(X_train) \n",
        "\n",
        "# Transform the test set \n",
        "tfidf_test = tfidf_vectorizer.transform(X_test)\n",
        "\n",
        "from sklearn.svm import SVC\n",
        "SVC_Classifier =  OneVsRestClassifier(SVC(kernel='linear'))\n",
        "\n",
        "from sklearn.naive_bayes import MultinomialNB\n",
        "NB_Classifier = MultinomialNB()\n",
        "\n",
        "classifier = SVC_Classifier\n",
        "print(classifier)\n",
        "\n",
        "classifier.fit(count_train, Training_Labels_Dep)\n",
        "P_Dep = (classifier.predict(count_test))\n",
        "\n",
        "classifier.fit(count_train, Training_Labels_Per)\n",
        "P_Per = classifier.predict(count_test)\n",
        "\n",
        "classifier.fit(count_train, Training_Labels_Sup)\n",
        "P_Sup = classifier.predict(count_test)\n",
        "\n",
        "classifier.fit(count_train, Training_Labels_Usa)\n",
        "P_Usa = classifier.predict(count_test)"
      ],
      "execution_count": 0,
      "outputs": [
        {
          "output_type": "stream",
          "text": [
            "OneVsRestClassifier(estimator=SVC(C=1.0, cache_size=200, class_weight=None, coef0=0.0,\n",
            "  decision_function_shape='ovr', degree=3, gamma='auto', kernel='linear',\n",
            "  max_iter=-1, probability=False, random_state=None, shrinking=True,\n",
            "  tol=0.001, verbose=False),\n",
            "          n_jobs=1)\n"
          ],
          "name": "stdout"
        }
      ]
    },
    {
      "cell_type": "code",
      "metadata": {
        "id": "LXgyAunyy250",
        "colab_type": "code",
        "colab": {},
        "outputId": "2da52445-2a12-46c9-a78f-894bd8c46d2b"
      },
      "source": [
        "classifier.fit(count_train, Training_Labels_Dep)\n",
        "predicted2 = classifier.predict(count_test2)\n",
        "print(predicted2)\n",
        "\n",
        "classifier.fit(count_train, Training_Labels_Per)\n",
        "predicted2 = classifier.predict(count_test2)\n",
        "print(predicted2)\n",
        "\n",
        "classifier.fit(count_train, Training_Labels_Sup)\n",
        "predicted2 = classifier.predict(count_test2)\n",
        "print(predicted2)\n",
        "\n",
        "classifier.fit(count_train, Training_Labels_Usa)\n",
        "predicted2 = classifier.predict(count_test2)\n",
        "print(predicted2)"
      ],
      "execution_count": 0,
      "outputs": [
        {
          "output_type": "stream",
          "text": [
            "[0 0]\n",
            "[0 0]\n",
            "[1 0]\n",
            "[0 0]\n"
          ],
          "name": "stdout"
        }
      ]
    },
    {
      "cell_type": "code",
      "metadata": {
        "id": "ONBUaz1gy257",
        "colab_type": "code",
        "colab": {},
        "outputId": "e17f7e30-755d-468e-fe46-7cf9250e68d7"
      },
      "source": [
        "from sklearn.metrics import accuracy_score\n",
        "from sklearn.metrics import classification_report\n",
        "from sklearn.metrics import f1_score\n",
        "from sklearn.metrics import precision_score\n",
        "from sklearn.metrics import recall_score\n",
        "from sklearn.metrics import fbeta_score\n",
        "from sklearn.metrics import confusion_matrix\n",
        "\n",
        "print (\"Precision: Dep\",precision_score(Test_Labels_Dep,P_Dep))\n",
        "print (\"Recall: Dep\",recall_score(Test_Labels_Dep,P_Dep))\n",
        "print(\"\\n\")\n",
        "\n",
        "print (\"Precision: Per\",precision_score(Test_Labels_Per,P_Per))\n",
        "print (\"Recall: Per\",recall_score(Test_Labels_Per,P_Per))\n",
        "print(\"\\n\")\n",
        "\n",
        "print (\"Precision: Sup\",precision_score(Test_Labels_Sup,P_Sup))\n",
        "print (\"Recall: Sup\",recall_score(Test_Labels_Sup,P_Sup))\n",
        "\n",
        "print(\"\\n\")\n",
        "\n",
        "print (\"Precision: Usa\",precision_score(Test_Labels_Usa,P_Usa))\n",
        "print (\"Recall: Usa\",recall_score(Test_Labels_Usa,P_Usa))\n",
        "\n",
        "Average_Precision = (precision_score(Test_Labels_Dep,P_Dep) + precision_score(Test_Labels_Per,P_Per) + \\\n",
        "                    precision_score(Test_Labels_Sup,P_Sup) + precision_score(Test_Labels_Usa,P_Usa)) / 4.0\n",
        "\n",
        "Average_Recall = (recall_score(Test_Labels_Dep,P_Dep) + recall_score(Test_Labels_Per,P_Per) + \\\n",
        "                    recall_score(Test_Labels_Sup,P_Sup) + recall_score(Test_Labels_Usa,P_Usa)) / 4.0\n"
      ],
      "execution_count": 0,
      "outputs": [
        {
          "output_type": "stream",
          "text": [
            "Precision: Dep 0.656934306569\n",
            "Recall: Dep 0.578778135048\n",
            "\n",
            "\n",
            "Precision: Per 0.678571428571\n",
            "Recall: Per 0.59375\n",
            "\n",
            "\n",
            "Precision: Sup 0.590909090909\n",
            "Recall: Sup 0.469879518072\n",
            "\n",
            "\n",
            "Precision: Usa 0.55593220339\n",
            "Recall: Usa 0.459383753501\n"
          ],
          "name": "stdout"
        }
      ]
    },
    {
      "cell_type": "code",
      "metadata": {
        "id": "f0pGmqhuy26E",
        "colab_type": "code",
        "colab": {},
        "outputId": "aa77d49c-766d-42b3-bfdb-77666430b9ee"
      },
      "source": [
        "print (Average_Precision)\n",
        "print (Average_Recall)"
      ],
      "execution_count": 0,
      "outputs": [
        {
          "output_type": "stream",
          "text": [
            "0.62058675736\n",
            "0.525447851655\n"
          ],
          "name": "stdout"
        }
      ]
    },
    {
      "cell_type": "code",
      "metadata": {
        "id": "ukqW5DYGy26L",
        "colab_type": "code",
        "colab": {},
        "outputId": "ebab8282-a8f8-4b2f-b953-391267c36e93"
      },
      "source": [
        "combined_Actual_labels = np.zeros((len(P_Dep), 4))\n",
        "for i in range(len(P_Dep)):\n",
        "    if Test_Labels_Dep[i] == 1:\n",
        "        combined_Actual_labels[i][0]=1\n",
        "    if Test_Labels_Per[i] == 1:\n",
        "        combined_Actual_labels[i][1]=1\n",
        "    if Test_Labels_Sup[i] == 1:\n",
        "        combined_Actual_labels[i][2]=1\n",
        "    if Test_Labels_Usa[i] == 1:\n",
        "        combined_Actual_labels[i][3]=1\n",
        "\n",
        "combined_Predictions = np.zeros((len(P_Dep), 4))\n",
        "for i in range(len(P_Dep)):\n",
        "    if P_Dep[i] == 1:\n",
        "        combined_Predictions[i][0]=1\n",
        "    if P_Per[i] == 1:\n",
        "        combined_Predictions[i][1]=1\n",
        "    if P_Sup[i] == 1:\n",
        "        combined_Predictions[i][2]=1\n",
        "    if P_Usa[i] == 1:\n",
        "        combined_Predictions[i][3]=1\n",
        "\n",
        "print(combined_Actual_labels)\n",
        "print(combined_Predictions)"
      ],
      "execution_count": 0,
      "outputs": [
        {
          "output_type": "stream",
          "text": [
            "[[ 1.  0.  0.  0.]\n",
            " [ 0.  0.  0.  0.]\n",
            " [ 0.  0.  0.  0.]\n",
            " ..., \n",
            " [ 0.  0.  1.  0.]\n",
            " [ 0.  0.  0.  0.]\n",
            " [ 0.  0.  0.  0.]]\n",
            "[[ 1.  0.  0.  0.]\n",
            " [ 0.  0.  0.  0.]\n",
            " [ 0.  0.  0.  0.]\n",
            " ..., \n",
            " [ 0.  0.  0.  1.]\n",
            " [ 0.  0.  0.  0.]\n",
            " [ 0.  0.  0.  1.]]\n"
          ],
          "name": "stdout"
        }
      ]
    },
    {
      "cell_type": "code",
      "metadata": {
        "id": "Ofxp4vDEy26V",
        "colab_type": "code",
        "colab": {},
        "outputId": "ba6ed143-2f86-4496-eebb-ad5d7a8c22cd"
      },
      "source": [
        "from sklearn.metrics import accuracy_score\n",
        "from sklearn.metrics import hamming_loss\n",
        "\n",
        "y_true = combined_Actual_labels\n",
        "y_pred = combined_Predictions\n",
        "\n",
        "def hamming_score(y_true, y_pred, normalize=True, sample_weight=None):\n",
        "    acc_list = []\n",
        "    for i in range(y_true.shape[0]):\n",
        "        set_true = set( np.where(y_true[i])[0] )\n",
        "        set_pred = set( np.where(y_pred[i])[0] )\n",
        "        tmp_a = None\n",
        "        if len(set_true) == 0 and len(set_pred) == 0:\n",
        "            tmp_a = 1\n",
        "        else:\n",
        "            tmp_a = len(set_true.intersection(set_pred))/\\\n",
        "                    float( len(set_true.union(set_pred)) )\n",
        "        acc_list.append(tmp_a)\n",
        "    return np.mean(acc_list)\n",
        "\n",
        "if __name__ == \"__main__\":\n",
        "    print('Hamming score: {0}'.format(hamming_score(y_true, y_pred)))\n",
        "\n",
        "    import sklearn.metrics\n",
        "\n",
        "    #print('Subset accuracy: {0}'.format(accuracy_score(y_true, y_pred, normalize=True, sample_weight=None)))\n",
        "    #print('Hamming loss: {0}'.format(hamming_loss(y_true, y_pred)))"
      ],
      "execution_count": 0,
      "outputs": [
        {
          "output_type": "stream",
          "text": [
            "Hamming score: 0.7080555555555555\n",
            "Subset accuracy: 0.6711111111111111\n",
            "Hamming loss: 0.09902777777777778\n"
          ],
          "name": "stdout"
        }
      ]
    },
    {
      "cell_type": "code",
      "metadata": {
        "id": "fJsHpycWy26c",
        "colab_type": "code",
        "colab": {}
      },
      "source": [
        "#Compute Hamming Scored for 4 Categories only\n",
        "\n",
        "number_of_non_miscellaneous = 0\n",
        "for i in range(len(combined_Actual_labels)):\n",
        "    if np.sum(combined_Actual_labels[i]) > 0:\n",
        "        number_of_non_miscellaneous = number_of_non_miscellaneous + 1\n",
        "\n",
        "#Create two new arrays with Labels excluding non-miscellaneous\n",
        "combined_Actual_labels_non_miscellaneous = np.zeros((number_of_non_miscellaneous, 4))\n",
        "combined_Predicted_labels_non_miscellaneous = np.zeros((number_of_non_miscellaneous, 4))\n",
        "\n",
        "counter = -1\n",
        "for j in range(len(combined_Actual_labels)):\n",
        "    if(np.sum(combined_Actual_labels[j]) > 0):\n",
        "        counter = counter + 1\n",
        "        combined_Actual_labels_non_miscellaneous[counter]= combined_Actual_labels[j]\n",
        "        combined_Predicted_labels_non_miscellaneous[counter] = combined_Predictions[j]  "
      ],
      "execution_count": 0,
      "outputs": []
    },
    {
      "cell_type": "code",
      "metadata": {
        "id": "obkogCp_y26n",
        "colab_type": "code",
        "colab": {},
        "outputId": "2900f522-e92b-4938-935f-b6b6b1e979e6"
      },
      "source": [
        "print('Hamming score: {0}'.format(hamming_score(combined_Actual_labels_non_miscellaneous, combined_Predicted_labels_non_miscellaneous)))\n",
        "print('Subset accuracy: {0}'.format(sklearn.metrics.accuracy_score(combined_Actual_labels_non_miscellaneous, combined_Predicted_labels_non_miscellaneous, normalize=True, sample_weight=None)))\n",
        "print('Hamming loss: {0}'.format(sklearn.metrics.hamming_loss(combined_Actual_labels_non_miscellaneous, combined_Predicted_labels_non_miscellaneous)))"
      ],
      "execution_count": 0,
      "outputs": [
        {
          "output_type": "stream",
          "text": [
            "Hamming score: 0.4695121951219512\n",
            "Subset accuracy: 0.3794037940379404\n",
            "Hamming loss: 0.19139566395663957\n"
          ],
          "name": "stdout"
        }
      ]
    },
    {
      "cell_type": "code",
      "metadata": {
        "id": "ozzrKO9sy26v",
        "colab_type": "code",
        "colab": {}
      },
      "source": [
        ""
      ],
      "execution_count": 0,
      "outputs": []
    }
  ]
}